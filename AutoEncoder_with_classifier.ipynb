{
  "nbformat": 4,
  "nbformat_minor": 0,
  "metadata": {
    "colab": {
      "name": "Untitled3.ipynb",
      "provenance": [],
      "collapsed_sections": [],
      "mount_file_id": "1CCeTQi3EtMGSYNhh_2p7lrdUvdLPMWrR",
      "authorship_tag": "ABX9TyOSAYcix6ihyso59IobZ8+D",
      "include_colab_link": true
    },
    "kernelspec": {
      "name": "python3",
      "display_name": "Python 3"
    }
  },
  "cells": [
    {
      "cell_type": "markdown",
      "metadata": {
        "id": "view-in-github",
        "colab_type": "text"
      },
      "source": [
        "<a href=\"https://colab.research.google.com/github/i-Shanky/DL_Implementations/blob/master/AutoEncoder_with_classifier.ipynb\" target=\"_parent\"><img src=\"https://colab.research.google.com/assets/colab-badge.svg\" alt=\"Open In Colab\"/></a>"
      ]
    },
    {
      "cell_type": "markdown",
      "metadata": {
        "id": "0RrGoXsezyZW",
        "colab_type": "text"
      },
      "source": [
        "Q: 1.a. Implement a CNN in which the input is a noisy number and the output is a denoised number.\n",
        "Use MNIST dataset. Use Gaussian distribution to add noise to the input. Plot the training & validation loss."
      ]
    },
    {
      "cell_type": "code",
      "metadata": {
        "id": "IVGrgBGJpGjy",
        "colab_type": "code",
        "colab": {}
      },
      "source": [
        "import keras\n",
        "from keras.datasets import mnist\n",
        "from keras.models import Sequential, load_model,Model\n",
        "from keras.layers import Conv2D, Conv2DTranspose,Input,Flatten,Dense\n",
        "from keras.constraints import max_norm\n",
        "from keras import backend as K\n",
        "import matplotlib.pyplot as plt\n",
        "import numpy as np\n",
        "from imgaug import augmenters"
      ],
      "execution_count": 0,
      "outputs": []
    },
    {
      "cell_type": "code",
      "metadata": {
        "id": "bTkhEqiwppnT",
        "colab_type": "code",
        "colab": {}
      },
      "source": [
        "# Model configuration\n",
        "img_width, img_height = 28, 28\n",
        "batch_size = 150\n",
        "no_epochs = 10\n",
        "validation_split = 0.2\n",
        "verbosity = 1\n",
        "max_norm_value = 2.0\n",
        "noise_factor = 0.55\n",
        "number_of_visualizations = 6"
      ],
      "execution_count": 0,
      "outputs": []
    },
    {
      "cell_type": "code",
      "metadata": {
        "id": "NYBWE2Nvpt5_",
        "colab_type": "code",
        "colab": {}
      },
      "source": [
        "# Load MNIST dataset\n",
        "(X_train, y_train), (X_test, y_test) = mnist.load_data()"
      ],
      "execution_count": 0,
      "outputs": []
    },
    {
      "cell_type": "code",
      "metadata": {
        "id": "Fg8EDaVnpzqk",
        "colab_type": "code",
        "colab": {}
      },
      "source": [
        "# Reshape data based on channels first / channels last strategy.\n",
        "if K.image_data_format() == 'channels_first':\n",
        "    X_train = X_train.reshape(X_train.shape[0], 1, img_width, img_height)\n",
        "    X_test = X_test.reshape(X_test.shape[0], 1, img_width, img_height)\n",
        "    input_shape = (1, img_width, img_height)\n",
        "else:\n",
        "    X_train = X_train.reshape(X_train.shape[0], img_width, img_height, 1)\n",
        "    X_test = X_test.reshape(X_test.shape[0], img_width, img_height, 1)\n",
        "    input_shape = (img_width, img_height, 1)"
      ],
      "execution_count": 0,
      "outputs": []
    },
    {
      "cell_type": "code",
      "metadata": {
        "id": "Zez2IE8iFX9b",
        "colab_type": "code",
        "outputId": "b53f3025-da90-46b6-8f58-fd0c328487ee",
        "colab": {
          "base_uri": "https://localhost:8080/",
          "height": 34
        }
      },
      "source": [
        "input_shape"
      ],
      "execution_count": 6,
      "outputs": [
        {
          "output_type": "execute_result",
          "data": {
            "text/plain": [
              "(28, 28, 1)"
            ]
          },
          "metadata": {
            "tags": []
          },
          "execution_count": 6
        }
      ]
    },
    {
      "cell_type": "code",
      "metadata": {
        "id": "PsQ-OGGHsqLG",
        "colab_type": "code",
        "outputId": "baec5622-66f5-4928-bb81-b0b34b558495",
        "colab": {
          "base_uri": "https://localhost:8080/",
          "height": 265
        }
      },
      "source": [
        "plt.figure()\n",
        "plt.imshow(X_train[5].reshape(28,28),cmap='Greys')\n",
        "plt.colorbar()\n",
        "plt.show()"
      ],
      "execution_count": 7,
      "outputs": [
        {
          "output_type": "display_data",
          "data": {
            "image/png": "[encoded data removed]",
            "text/plain": [
              "<Figure size 432x288 with 2 Axes>"
            ]
          },
          "metadata": {
            "tags": []
          }
        }
      ]
    },
    {
      "cell_type": "code",
      "metadata": {
        "id": "A38qvLcwqK2s",
        "colab_type": "code",
        "outputId": "399b14c3-ea34-478a-a765-d45ddb061bee",
        "colab": {
          "base_uri": "https://localhost:8080/",
          "height": 34
        }
      },
      "source": [
        "# Add noise\n",
        "noise = augmenters.GaussianBlur(sigma=0.75)\n",
        "seq = augmenters.Sequential([noise]) # apply augmenters in random order\n",
        "noisy_input = seq.augment_images(X_train ) \n",
        "noisy_input_test = seq.augment_images(X_test )\n",
        "noisy_input_test.shape"
      ],
      "execution_count": 8,
      "outputs": [
        {
          "output_type": "execute_result",
          "data": {
            "text/plain": [
              "(10000, 28, 28, 1)"
            ]
          },
          "metadata": {
            "tags": []
          },
          "execution_count": 8
        }
      ]
    },
    {
      "cell_type": "code",
      "metadata": {
        "id": "pxlLzsb7r94A",
        "colab_type": "code",
        "outputId": "fd62d11a-b8b8-4732-f0b5-c5d8a8d66dac",
        "colab": {
          "base_uri": "https://localhost:8080/",
          "height": 265
        }
      },
      "source": [
        "plt.figure()\n",
        "plt.imshow(noisy_input[5].reshape(28,28),cmap='Greys')\n",
        "plt.colorbar()\n",
        "plt.show()"
      ],
      "execution_count": 9,
      "outputs": [
        {
          "output_type": "display_data",
          "data": {
            "image/png": "[encoded data removed]",
            "text/plain": [
              "<Figure size 432x288 with 2 Axes>"
            ]
          },
          "metadata": {
            "tags": []
          }
        }
      ]
    },
    {
      "cell_type": "code",
      "metadata": {
        "id": "sJxG0m1EqXhg",
        "colab_type": "code",
        "colab": {
          "base_uri": "https://localhost:8080/",
          "height": 138
        },
        "outputId": "9f0456e1-83a7-46e9-a133-ed851bb12ca9"
      },
      "source": [
        "# Create the layers of the model\n",
        "input_layer = Input(shape=input_shape)  #(28,28,1) \n",
        "#encoding\n",
        "model = Sequential()\n",
        "encoded_layer1 = Conv2D(64, kernel_size=(3, 3), kernel_constraint=max_norm(max_norm_value), activation='relu', kernel_initializer='he_uniform')(input_layer)\n",
        "encoded_layer2 = Conv2D(32, kernel_size=(3, 3), kernel_constraint=max_norm(max_norm_value), activation='relu', kernel_initializer='he_uniform')(encoded_layer1)\n",
        "encoded_layer3 = Conv2D(16, kernel_size=(3, 3), kernel_constraint=max_norm(max_norm_value), activation='relu', kernel_initializer='he_uniform')(encoded_layer2)\n",
        "#decoding\n",
        "decoded_layer1 = Conv2DTranspose(16, kernel_size=(3,3), kernel_constraint=max_norm(max_norm_value), activation='relu', kernel_initializer='he_uniform')(encoded_layer3)\n",
        "decoded_layer2 = Conv2DTranspose(32, kernel_size=(3,3), kernel_constraint=max_norm(max_norm_value), activation='relu', kernel_initializer='he_uniform')(decoded_layer1)\n",
        "decoded_layer3 = Conv2DTranspose(64, kernel_size=(3,3), kernel_constraint=max_norm(max_norm_value), activation='relu', kernel_initializer='he_uniform')(decoded_layer2)\n",
        "output_layer = Conv2D(1, kernel_size=(3, 3), kernel_constraint=max_norm(max_norm_value), padding='same')(decoded_layer3)"
      ],
      "execution_count": 10,
      "outputs": [
        {
          "output_type": "stream",
          "text": [
            "WARNING:tensorflow:From /usr/local/lib/python3.6/dist-packages/keras/backend/tensorflow_backend.py:66: The name tf.get_default_graph is deprecated. Please use tf.compat.v1.get_default_graph instead.\n",
            "\n",
            "WARNING:tensorflow:From /usr/local/lib/python3.6/dist-packages/keras/backend/tensorflow_backend.py:541: The name tf.placeholder is deprecated. Please use tf.compat.v1.placeholder instead.\n",
            "\n",
            "WARNING:tensorflow:From /usr/local/lib/python3.6/dist-packages/keras/backend/tensorflow_backend.py:4432: The name tf.random_uniform is deprecated. Please use tf.random.uniform instead.\n",
            "\n"
          ],
          "name": "stdout"
        }
      ]
    },
    {
      "cell_type": "code",
      "metadata": {
        "id": "uua2mNSYqbsc",
        "colab_type": "code",
        "outputId": "6db454ec-3bdc-48bf-e655-5754c04de598",
        "colab": {
          "base_uri": "https://localhost:8080/",
          "height": 420
        }
      },
      "source": [
        "#Build the model\n",
        "model = Model(input_layer, output_layer)\n",
        "#Summary of the model\n",
        "model.summary() "
      ],
      "execution_count": 11,
      "outputs": [
        {
          "output_type": "stream",
          "text": [
            "Model: \"model_1\"\n",
            "_________________________________________________________________\n",
            "Layer (type)                 Output Shape              Param #   \n",
            "=================================================================\n",
            "input_1 (InputLayer)         (None, 28, 28, 1)         0         \n",
            "_________________________________________________________________\n",
            "conv2d_1 (Conv2D)            (None, 26, 26, 64)        640       \n",
            "_________________________________________________________________\n",
            "conv2d_2 (Conv2D)            (None, 24, 24, 32)        18464     \n",
            "_________________________________________________________________\n",
            "conv2d_3 (Conv2D)            (None, 22, 22, 16)        4624      \n",
            "_________________________________________________________________\n",
            "conv2d_transpose_1 (Conv2DTr (None, 24, 24, 16)        2320      \n",
            "_________________________________________________________________\n",
            "conv2d_transpose_2 (Conv2DTr (None, 26, 26, 32)        4640      \n",
            "_________________________________________________________________\n",
            "conv2d_transpose_3 (Conv2DTr (None, 28, 28, 64)        18496     \n",
            "_________________________________________________________________\n",
            "conv2d_4 (Conv2D)            (None, 28, 28, 1)         577       \n",
            "=================================================================\n",
            "Total params: 49,761\n",
            "Trainable params: 49,761\n",
            "Non-trainable params: 0\n",
            "_________________________________________________________________\n"
          ],
          "name": "stdout"
        }
      ]
    },
    {
      "cell_type": "code",
      "metadata": {
        "id": "eqGj-mp5XleP",
        "colab_type": "code",
        "colab": {
          "base_uri": "https://localhost:8080/",
          "height": 692
        },
        "outputId": "31d22aa3-a8c3-4b7a-b532-6af24671161a"
      },
      "source": [
        "#Compiling the model\n",
        "model.compile(optimizer='adam', loss='mse')\n",
        "history=model.fit(noisy_input,X_train,epochs=no_epochs,batch_size=batch_size,validation_split=validation_split)"
      ],
      "execution_count": 13,
      "outputs": [
        {
          "output_type": "stream",
          "text": [
            "WARNING:tensorflow:From /usr/local/lib/python3.6/dist-packages/keras/optimizers.py:793: The name tf.train.Optimizer is deprecated. Please use tf.compat.v1.train.Optimizer instead.\n",
            "\n",
            "WARNING:tensorflow:From /usr/local/lib/python3.6/dist-packages/keras/backend/tensorflow_backend.py:1033: The name tf.assign_add is deprecated. Please use tf.compat.v1.assign_add instead.\n",
            "\n",
            "WARNING:tensorflow:From /usr/local/lib/python3.6/dist-packages/keras/backend/tensorflow_backend.py:1020: The name tf.assign is deprecated. Please use tf.compat.v1.assign instead.\n",
            "\n",
            "WARNING:tensorflow:From /usr/local/lib/python3.6/dist-packages/keras/backend/tensorflow_backend.py:3005: The name tf.Session is deprecated. Please use tf.compat.v1.Session instead.\n",
            "\n",
            "Train on 48000 samples, validate on 12000 samples\n",
            "Epoch 1/10\n",
            "WARNING:tensorflow:From /usr/local/lib/python3.6/dist-packages/keras/backend/tensorflow_backend.py:190: The name tf.get_default_session is deprecated. Please use tf.compat.v1.get_default_session instead.\n",
            "\n",
            "WARNING:tensorflow:From /usr/local/lib/python3.6/dist-packages/keras/backend/tensorflow_backend.py:197: The name tf.ConfigProto is deprecated. Please use tf.compat.v1.ConfigProto instead.\n",
            "\n",
            "WARNING:tensorflow:From /usr/local/lib/python3.6/dist-packages/keras/backend/tensorflow_backend.py:207: The name tf.global_variables is deprecated. Please use tf.compat.v1.global_variables instead.\n",
            "\n",
            "WARNING:tensorflow:From /usr/local/lib/python3.6/dist-packages/keras/backend/tensorflow_backend.py:216: The name tf.is_variable_initialized is deprecated. Please use tf.compat.v1.is_variable_initialized instead.\n",
            "\n",
            "WARNING:tensorflow:From /usr/local/lib/python3.6/dist-packages/keras/backend/tensorflow_backend.py:223: The name tf.variables_initializer is deprecated. Please use tf.compat.v1.variables_initializer instead.\n",
            "\n",
            "48000/48000 [==============================] - 503s 10ms/step - loss: 376.8342 - val_loss: 67.2850\n",
            "Epoch 2/10\n",
            "48000/48000 [==============================] - 502s 10ms/step - loss: 45.3618 - val_loss: 34.9428\n",
            "Epoch 3/10\n",
            "48000/48000 [==============================] - 501s 10ms/step - loss: 26.6205 - val_loss: 22.0586\n",
            "Epoch 4/10\n",
            "48000/48000 [==============================] - 505s 11ms/step - loss: 19.3237 - val_loss: 16.5050\n",
            "Epoch 5/10\n",
            "48000/48000 [==============================] - 502s 10ms/step - loss: 15.6539 - val_loss: 13.4116\n",
            "Epoch 6/10\n",
            "48000/48000 [==============================] - 500s 10ms/step - loss: 13.8263 - val_loss: 11.3321\n",
            "Epoch 7/10\n",
            "48000/48000 [==============================] - 499s 10ms/step - loss: 11.3601 - val_loss: 21.9613\n",
            "Epoch 8/10\n",
            "48000/48000 [==============================] - 501s 10ms/step - loss: 10.0365 - val_loss: 27.5488\n",
            "Epoch 9/10\n",
            "48000/48000 [==============================] - 501s 10ms/step - loss: 9.2026 - val_loss: 7.3962\n",
            "Epoch 10/10\n",
            "48000/48000 [==============================] - 502s 10ms/step - loss: 8.4619 - val_loss: 7.2144\n"
          ],
          "name": "stdout"
        }
      ]
    },
    {
      "cell_type": "code",
      "metadata": {
        "id": "JfmGxdLsqg1p",
        "colab_type": "code",
        "outputId": "159a3665-556c-4296-a888-d83aca3d66bb",
        "colab": {
          "base_uri": "https://localhost:8080/",
          "height": 1000
        }
      },
      "source": [
        "# Generate denoised images\n",
        "samples = noisy_input_test[:number_of_visualizations]\n",
        "targets = y_test[:number_of_visualizations]\n",
        "denoised_images = model.predict(samples)\n",
        "\n",
        "# Plot denoised images\n",
        "for i in range(0, number_of_visualizations):\n",
        "  # Get the sample and the reconstruction\n",
        "  noisy_image = noisy_input_test[i][:, :, 0]\n",
        "#  pure_image  = input_test[i][:, :, 0]\n",
        "  denoised_image = denoised_images[i][:, :, 0]\n",
        "  input_class = targets[i]\n",
        "  # Matplotlib preparations\n",
        "  fig, axes = plt.subplots(1, 2)\n",
        "  fig.set_size_inches(8, 3.5)\n",
        "  # Plot sample and reconstruciton\n",
        "  axes[0].imshow(noisy_image,cmap='Greys')\n",
        "  axes[0].set_title('Noisy image')\n",
        "#  axes[1].imshow(pure_image,cmap='Greys')\n",
        "#  axes[1].set_title('Pure image')\n",
        "  axes[1].imshow(denoised_image,cmap='Greys')\n",
        "  axes[1].set_title('Denoised image')\n",
        "  fig.suptitle(f'MNIST target = {input_class}')\n",
        "  plt.show()"
      ],
      "execution_count": 16,
      "outputs": [
        {
          "output_type": "display_data",
          "data": {
            "image/png": "[encoded data removed]",
            "text/plain": [
              "<Figure size 576x252 with 2 Axes>"
            ]
          },
          "metadata": {
            "tags": []
          }
        },
        {
          "output_type": "display_data",
          "data": {
            "image/png": "[encoded data removed]",
            "text/plain": [
              "<Figure size 576x252 with 2 Axes>"
            ]
          },
          "metadata": {
            "tags": []
          }
        },
        {
          "output_type": "display_data",
          "data": {
            "image/png": "[encoded data removed]",
            "text/plain": [
              "<Figure size 576x252 with 2 Axes>"
            ]
          },
          "metadata": {
            "tags": []
          }
        },
        {
          "output_type": "display_data",
          "data": {
            "image/png": "[encoded data removed]",
            "text/plain": [
              "<Figure size 576x252 with 2 Axes>"
            ]
          },
          "metadata": {
            "tags": []
          }
        },
        {
          "output_type": "display_data",
          "data": {
            "image/png": "[encoded data removed]",
            "text/plain": [
              "<Figure size 576x252 with 2 Axes>"
            ]
          },
          "metadata": {
            "tags": []
          }
        },
        {
          "output_type": "display_data",
          "data": {
            "image/png": "[encoded data removed]",
            "text/plain": [
              "<Figure size 576x252 with 2 Axes>"
            ]
          },
          "metadata": {
            "tags": []
          }
        }
      ]
    },
    {
      "cell_type": "code",
      "metadata": {
        "id": "fkBvBuUL7TlV",
        "colab_type": "code",
        "outputId": "27e0523d-8032-42f4-c48a-9dadc620f88f",
        "colab": {
          "base_uri": "https://localhost:8080/",
          "height": 295
        }
      },
      "source": [
        "model.metrics_names\n",
        "plt.plot(history.history['loss'])\n",
        "plt.plot(history.history['val_loss'])\n",
        "plt.title('Training and Validation Loss')\n",
        "plt.ylabel('Loss')\n",
        "plt.xlabel('Epoch')\n",
        "plt.legend(['train', 'validation'], loc='upper right')\n",
        "plt.show()"
      ],
      "execution_count": 17,
      "outputs": [
        {
          "output_type": "display_data",
          "data": {
            "image/png": "[encoded data removed]",
            "text/plain": [
              "<Figure size 432x288 with 1 Axes>"
            ]
          },
          "metadata": {
            "tags": []
          }
        }
      ]
    },
    {
      "cell_type": "code",
      "metadata": {
        "id": "wW9UwvJZ1DvP",
        "colab_type": "code",
        "colab": {}
      },
      "source": [
        "model.save('my_model.h5')"
      ],
      "execution_count": 0,
      "outputs": []
    },
    {
      "cell_type": "markdown",
      "metadata": {
        "id": "YZ65_2cVa4Vi",
        "colab_type": "text"
      },
      "source": [
        "1.b. Build a classifier based on the trained Autoencoder. Extract the trained encoder and add some fully connected layers to classify the digits [Semi - Supervised Classification using Autoencoders]."
      ]
    },
    {
      "cell_type": "code",
      "metadata": {
        "id": "9pI4U4pSHbrm",
        "colab_type": "code",
        "colab": {}
      },
      "source": [
        "model = load_model('my_model.h5')"
      ],
      "execution_count": 0,
      "outputs": []
    },
    {
      "cell_type": "code",
      "metadata": {
        "id": "RX2YC95LPpUo",
        "colab_type": "code",
        "outputId": "8cc4d096-fe78-44b6-9383-1dc22a301013",
        "colab": {
          "base_uri": "https://localhost:8080/",
          "height": 420
        }
      },
      "source": [
        "model.load_weights('my_model.h5')\n",
        "model.summary()"
      ],
      "execution_count": 20,
      "outputs": [
        {
          "output_type": "stream",
          "text": [
            "Model: \"model_1\"\n",
            "_________________________________________________________________\n",
            "Layer (type)                 Output Shape              Param #   \n",
            "=================================================================\n",
            "input_1 (InputLayer)         (None, 28, 28, 1)         0         \n",
            "_________________________________________________________________\n",
            "conv2d_1 (Conv2D)            (None, 26, 26, 64)        640       \n",
            "_________________________________________________________________\n",
            "conv2d_2 (Conv2D)            (None, 24, 24, 32)        18464     \n",
            "_________________________________________________________________\n",
            "conv2d_3 (Conv2D)            (None, 22, 22, 16)        4624      \n",
            "_________________________________________________________________\n",
            "conv2d_transpose_1 (Conv2DTr (None, 24, 24, 16)        2320      \n",
            "_________________________________________________________________\n",
            "conv2d_transpose_2 (Conv2DTr (None, 26, 26, 32)        4640      \n",
            "_________________________________________________________________\n",
            "conv2d_transpose_3 (Conv2DTr (None, 28, 28, 64)        18496     \n",
            "_________________________________________________________________\n",
            "conv2d_4 (Conv2D)            (None, 28, 28, 1)         577       \n",
            "=================================================================\n",
            "Total params: 49,761\n",
            "Trainable params: 49,761\n",
            "Non-trainable params: 0\n",
            "_________________________________________________________________\n"
          ],
          "name": "stdout"
        }
      ]
    },
    {
      "cell_type": "code",
      "metadata": {
        "id": "c7KSTxy6QGHg",
        "colab_type": "code",
        "outputId": "8790da17-aef2-40dd-df2b-30fb10fb5310",
        "colab": {
          "base_uri": "https://localhost:8080/",
          "height": 151
        }
      },
      "source": [
        "model.layers"
      ],
      "execution_count": 21,
      "outputs": [
        {
          "output_type": "execute_result",
          "data": {
            "text/plain": [
              "[<keras.engine.input_layer.InputLayer at 0x7f1642268860>,\n",
              " <keras.layers.convolutional.Conv2D at 0x7f1642268b70>,\n",
              " <keras.layers.convolutional.Conv2D at 0x7f1642268da0>,\n",
              " <keras.layers.convolutional.Conv2D at 0x7f16422681d0>,\n",
              " <keras.layers.convolutional.Conv2DTranspose at 0x7f1642270080>,\n",
              " <keras.layers.convolutional.Conv2DTranspose at 0x7f1642270240>,\n",
              " <keras.layers.convolutional.Conv2DTranspose at 0x7f1642270400>,\n",
              " <keras.layers.convolutional.Conv2D at 0x7f16422705c0>]"
            ]
          },
          "metadata": {
            "tags": []
          },
          "execution_count": 21
        }
      ]
    },
    {
      "cell_type": "code",
      "metadata": {
        "id": "-i5TNl4xQ_hr",
        "colab_type": "code",
        "colab": {}
      },
      "source": [
        "#Using only the encoder layers of the Autoencoder\n",
        "encoder_layers = []\n",
        "for i in range(0,4):\n",
        "  encoder_layers.append(model.layers[i])    "
      ],
      "execution_count": 0,
      "outputs": []
    },
    {
      "cell_type": "code",
      "metadata": {
        "id": "b76vM8J7RpEY",
        "colab_type": "code",
        "colab": {}
      },
      "source": [
        "batch_size = 128\n",
        "num_classes = 10\n",
        "epochs = 5 \n",
        "#Fresh input of data\n",
        "(x_train,y_train), (x_test,y_test) = mnist.load_data()\n",
        "\n",
        "x_train = x_train.astype('float32') / 255.\n",
        "x_test = x_test.astype('float32') / 255.\n",
        "x_train = np.reshape(x_train, (len(x_train), 28, 28, 1))\n",
        "x_test = np.reshape(x_test, (len(x_test), 28, 28, 1))"
      ],
      "execution_count": 0,
      "outputs": []
    },
    {
      "cell_type": "code",
      "metadata": {
        "id": "GZ9GIQUhR0gQ",
        "colab_type": "code",
        "outputId": "45f74e23-d3d8-4e3d-9bf4-5fe0ed84bddd",
        "colab": {
          "base_uri": "https://localhost:8080/",
          "height": 67
        }
      },
      "source": [
        "print('x_train shape:', x_train.shape)\n",
        "print(x_train.shape[0], 'train samples')\n",
        "print(x_test.shape[0], 'test samples')\n",
        "\n",
        "# convert class vectors to binary class matrices\n",
        "y_train = keras.utils.to_categorical(y_train, num_classes)\n",
        "y_test = keras.utils.to_categorical(y_test, num_classes)"
      ],
      "execution_count": 53,
      "outputs": [
        {
          "output_type": "stream",
          "text": [
            "x_train shape: (60000, 28, 28, 1)\n",
            "60000 train samples\n",
            "10000 test samples\n"
          ],
          "name": "stdout"
        }
      ]
    },
    {
      "cell_type": "code",
      "metadata": {
        "id": "j6gUVLumRksG",
        "colab_type": "code",
        "outputId": "66c0af3a-bd3e-4b33-ca9d-baee63e0df88",
        "colab": {
          "base_uri": "https://localhost:8080/",
          "height": 252
        }
      },
      "source": [
        "newmodel = Sequential(encoder_layers)\n",
        "newmodel.summary()"
      ],
      "execution_count": 38,
      "outputs": [
        {
          "output_type": "stream",
          "text": [
            "Model: \"sequential_4\"\n",
            "_________________________________________________________________\n",
            "Layer (type)                 Output Shape              Param #   \n",
            "=================================================================\n",
            "conv2d_1 (Conv2D)            (None, 26, 26, 64)        640       \n",
            "_________________________________________________________________\n",
            "conv2d_2 (Conv2D)            (None, 24, 24, 32)        18464     \n",
            "_________________________________________________________________\n",
            "conv2d_3 (Conv2D)            (None, 22, 22, 16)        4624      \n",
            "=================================================================\n",
            "Total params: 23,728\n",
            "Trainable params: 23,728\n",
            "Non-trainable params: 0\n",
            "_________________________________________________________________\n"
          ],
          "name": "stdout"
        }
      ]
    },
    {
      "cell_type": "code",
      "metadata": {
        "id": "Ac97BfHCR4vX",
        "colab_type": "code",
        "colab": {}
      },
      "source": [
        "newmodel.add(Flatten())\n",
        "newmodel.add(Dense(128,activation='relu')) \n",
        "newmodel.add(Dense(10,activation='softmax'))"
      ],
      "execution_count": 0,
      "outputs": []
    },
    {
      "cell_type": "code",
      "metadata": {
        "id": "uL7m0YezSFJs",
        "colab_type": "code",
        "outputId": "aa154217-864b-417f-fca6-e9ff8c9db52c",
        "colab": {
          "base_uri": "https://localhost:8080/",
          "height": 339
        }
      },
      "source": [
        "newmodel.compile(loss=keras.losses.categorical_crossentropy,\n",
        "              optimizer=keras.optimizers.Adadelta(),\n",
        "              metrics=['accuracy'])\n",
        "\n",
        "newmodel.fit(x_train, y_train,batch_size=batch_size,epochs=epochs,verbose=1,validation_data=(x_test, y_test))\n",
        "score = newmodel.evaluate(x_test, y_test, verbose=0)\n",
        "print('Test loss:', score[0])\n",
        "print('Test accuracy:', score[1])"
      ],
      "execution_count": 46,
      "outputs": [
        {
          "output_type": "stream",
          "text": [
            "WARNING:tensorflow:From /usr/local/lib/python3.6/dist-packages/keras/backend/tensorflow_backend.py:3576: The name tf.log is deprecated. Please use tf.math.log instead.\n",
            "\n",
            "WARNING:tensorflow:From /usr/local/lib/python3.6/dist-packages/tensorflow_core/python/ops/math_grad.py:1424: where (from tensorflow.python.ops.array_ops) is deprecated and will be removed in a future version.\n",
            "Instructions for updating:\n",
            "Use tf.where in 2.0, which has the same broadcast rule as np.where\n",
            "Train on 60000 samples, validate on 10000 samples\n",
            "Epoch 1/5\n",
            "60000/60000 [==============================] - 220s 4ms/step - loss: 0.1863 - acc: 0.9455 - val_loss: 0.0577 - val_acc: 0.9802\n",
            "Epoch 2/5\n",
            "60000/60000 [==============================] - 220s 4ms/step - loss: 0.0433 - acc: 0.9863 - val_loss: 0.0561 - val_acc: 0.9829\n",
            "Epoch 3/5\n",
            "60000/60000 [==============================] - 221s 4ms/step - loss: 0.0243 - acc: 0.9924 - val_loss: 0.0541 - val_acc: 0.9843\n",
            "Epoch 4/5\n",
            "60000/60000 [==============================] - 221s 4ms/step - loss: 0.0133 - acc: 0.9961 - val_loss: 0.0528 - val_acc: 0.9863\n",
            "Epoch 5/5\n",
            "60000/60000 [==============================] - 221s 4ms/step - loss: 0.0086 - acc: 0.9971 - val_loss: 0.0677 - val_acc: 0.9865\n",
            "Test loss: 0.06768103534293778\n",
            "Test accuracy: 0.9865\n"
          ],
          "name": "stdout"
        }
      ]
    },
    {
      "cell_type": "code",
      "metadata": {
        "id": "aiQBmZofSHlV",
        "colab_type": "code",
        "colab": {}
      },
      "source": [
        "output = newmodel.predict([x_test[0:1]])  #Predicting the first data using classifier"
      ],
      "execution_count": 0,
      "outputs": []
    },
    {
      "cell_type": "code",
      "metadata": {
        "id": "w5aNdJe1SN67",
        "colab_type": "code",
        "colab": {}
      },
      "source": [
        "index = np.argmax(output)"
      ],
      "execution_count": 0,
      "outputs": []
    },
    {
      "cell_type": "code",
      "metadata": {
        "id": "hYvI-tvJSPdC",
        "colab_type": "code",
        "outputId": "f05c3857-54a1-4014-f43a-44290f814e07",
        "colab": {
          "base_uri": "https://localhost:8080/",
          "height": 34
        }
      },
      "source": [
        "index"
      ],
      "execution_count": 51,
      "outputs": [
        {
          "output_type": "execute_result",
          "data": {
            "text/plain": [
              "7"
            ]
          },
          "metadata": {
            "tags": []
          },
          "execution_count": 51
        }
      ]
    },
    {
      "cell_type": "code",
      "metadata": {
        "id": "3cWwymXLSROb",
        "colab_type": "code",
        "outputId": "505500cb-60c7-4e03-c642-3b35dc272fd8",
        "colab": {
          "base_uri": "https://localhost:8080/",
          "height": 34
        }
      },
      "source": [
        "y_test[0]"
      ],
      "execution_count": 56,
      "outputs": [
        {
          "output_type": "execute_result",
          "data": {
            "text/plain": [
              "7"
            ]
          },
          "metadata": {
            "tags": []
          },
          "execution_count": 56
        }
      ]
    }
  ]
}